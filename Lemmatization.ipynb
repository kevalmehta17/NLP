{
 "cells": [
  {
   "cell_type": "markdown",
   "id": "744c555d",
   "metadata": {},
   "source": [
    "Lemmatization"
   ]
  },
  {
   "cell_type": "code",
   "execution_count": 1,
   "id": "0ab01431",
   "metadata": {},
   "outputs": [],
   "source": [
    "# Lemmatization :-  Lemmatization is the process of converting a word to its base form.\n",
    "# The output is called a lemma. After lemmatization, the word is in its dictionary form.\n",
    "# Example: The lemma of the word of \"better\" is \"good\".\n",
    "# NLTK provides WordNetLemmatizer class for lemmatization.\n",
    "# It uses the morphy algorithm to find the lemma of a word."
   ]
  },
  {
   "cell_type": "code",
   "execution_count": null,
   "id": "d1ab4f02",
   "metadata": {},
   "outputs": [],
   "source": [
    "import nltk\n",
    "nltk.download('wordnet')\n",
    "from nltk.stem import WordNetLemmatizer\n"
   ]
  },
  {
   "cell_type": "code",
   "execution_count": null,
   "id": "ad00e9d7",
   "metadata": {},
   "outputs": [
    {
     "data": {
      "text/plain": [
       "\"\\npos in lemmatizer is used to specify the part of speech of the word.\\ndefault is 'n' (noun).\\nThe options are:\\n- 'n' for noun\\n- 'v' for verb\\n- 'a' for adjective\\n- 'r' for adverb\\n\\n\""
      ]
     },
     "execution_count": 7,
     "metadata": {},
     "output_type": "execute_result"
    }
   ],
   "source": [
    "'''\n",
    "pos in lemmatizer is used to specify the part of speech of the word.\n",
    "default is 'n' (noun).\n",
    "The options are:\n",
    "- 'n' for noun\n",
    "- 'v' for verb\n",
    "- 'a' for adjective\n",
    "- 'r' for adverb\n",
    "'''"
   ]
  },
  {
   "cell_type": "code",
   "execution_count": 9,
   "id": "f9090c56",
   "metadata": {},
   "outputs": [
    {
     "data": {
      "text/plain": [
       "'go'"
      ]
     },
     "execution_count": 9,
     "metadata": {},
     "output_type": "execute_result"
    }
   ],
   "source": [
    "\n",
    "lemmatizer = WordNetLemmatizer()\n",
    "\n",
    "output = lemmatizer.lemmatize(\"going\", pos='v')\n",
    "output"
   ]
  },
  {
   "cell_type": "code",
   "execution_count": 20,
   "id": "eb1d228f",
   "metadata": {},
   "outputs": [
    {
     "name": "stdout",
     "output_type": "stream",
     "text": [
      "The lemma of 'better' is 'good'\n",
      "The lemma of 'going' is 'going'\n",
      "The lemma of 'went' is 'went'\n",
      "The lemma of 'good' is 'good'\n",
      "The lemma of 'eats' is 'eats'\n",
      "The lemma of 'eats' is 'eats'\n",
      "The lemma of 'congratulations' is 'congratulations'\n",
      "The lemma of 'best' is 'best'\n"
     ]
    }
   ],
   "source": [
    "words = [\"better\", \"going\", \"went\", \"good\", \"eats\",\"eats\",'congratulations', \"best\"]\n",
    "\n",
    "for word in words:\n",
    "    lemma = lemmatizer.lemmatize(word, pos='a')\n",
    "    print(f\"The lemma of '{word}' is '{lemma}'\")"
   ]
  },
  {
   "cell_type": "code",
   "execution_count": 23,
   "id": "382aa3e9",
   "metadata": {},
   "outputs": [
    {
     "data": {
      "text/plain": [
       "'sportingly'"
      ]
     },
     "execution_count": 23,
     "metadata": {},
     "output_type": "execute_result"
    }
   ],
   "source": [
    "output_word = lemmatizer.lemmatize(\"sportingly\", pos='v')\n",
    "output_word"
   ]
  },
  {
   "cell_type": "code",
   "execution_count": null,
   "id": "f0c67a94",
   "metadata": {},
   "outputs": [],
   "source": [
    "# Wordnetlemmatizer takes the more time bcz it uses the morphy algorithm to find the lemma of a word.\n",
    "# It used in Q&A systems, chatbots, text summarization, and other NLP tasks."
   ]
  }
 ],
 "metadata": {
  "kernelspec": {
   "display_name": "Python 3",
   "language": "python",
   "name": "python3"
  },
  "language_info": {
   "codemirror_mode": {
    "name": "ipython",
    "version": 3
   },
   "file_extension": ".py",
   "mimetype": "text/x-python",
   "name": "python",
   "nbconvert_exporter": "python",
   "pygments_lexer": "ipython3",
   "version": "3.12.0"
  }
 },
 "nbformat": 4,
 "nbformat_minor": 5
}
